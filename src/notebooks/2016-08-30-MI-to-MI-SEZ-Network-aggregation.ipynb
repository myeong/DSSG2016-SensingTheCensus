{
 "cells": [
  {
   "cell_type": "markdown",
   "metadata": {},
   "source": [
    "### This is a script that reads Region-to-Region network data and aggregate them as a single file."
   ]
  },
  {
   "cell_type": "code",
   "execution_count": 1,
   "metadata": {
    "collapsed": false
   },
   "outputs": [],
   "source": [
    "import pandas as pd\n",
    "import json\n",
    "import numpy as np\n",
    "from pandas.io.json import json_normalize\n",
    "from scipy.spatial.distance import cosine\n",
    "import csv\n",
    "import ast\n",
    "import os"
   ]
  },
  {
   "cell_type": "code",
   "execution_count": 70,
   "metadata": {
    "collapsed": false
   },
   "outputs": [
    {
     "name": "stdout",
     "output_type": "stream",
     "text": [
      "../../data/CDR/sez-to-sez/SEZtoSEZ-2013-11-01.csv\n",
      "../../data/CDR/sez-to-sez/SEZtoSEZ-2013-11-02.csv\n",
      "../../data/CDR/sez-to-sez/SEZtoSEZ-2013-11-03.csv\n",
      "../../data/CDR/sez-to-sez/SEZtoSEZ-2013-11-04.csv\n",
      "../../data/CDR/sez-to-sez/SEZtoSEZ-2013-11-05.csv\n",
      "../../data/CDR/sez-to-sez/SEZtoSEZ-2013-11-06.csv\n",
      "../../data/CDR/sez-to-sez/SEZtoSEZ-2013-11-07.csv\n",
      "../../data/CDR/sez-to-sez/SEZtoSEZ-2013-11-08.csv\n",
      "../../data/CDR/sez-to-sez/SEZtoSEZ-2013-11-09.csv\n",
      "../../data/CDR/sez-to-sez/SEZtoSEZ-2013-11-10.csv\n",
      "../../data/CDR/sez-to-sez/SEZtoSEZ-2013-11-11.csv\n",
      "../../data/CDR/sez-to-sez/SEZtoSEZ-2013-11-12.csv\n",
      "../../data/CDR/sez-to-sez/SEZtoSEZ-2013-11-13.csv\n",
      "../../data/CDR/sez-to-sez/SEZtoSEZ-2013-11-14.csv\n",
      "../../data/CDR/sez-to-sez/SEZtoSEZ-2013-11-15.csv\n",
      "../../data/CDR/sez-to-sez/SEZtoSEZ-2013-11-16.csv\n",
      "../../data/CDR/sez-to-sez/SEZtoSEZ-2013-11-17.csv\n",
      "../../data/CDR/sez-to-sez/SEZtoSEZ-2013-11-18.csv\n",
      "../../data/CDR/sez-to-sez/SEZtoSEZ-2013-11-19.csv\n",
      "../../data/CDR/sez-to-sez/SEZtoSEZ-2013-11-20.csv\n",
      "../../data/CDR/sez-to-sez/SEZtoSEZ-2013-11-21.csv\n",
      "../../data/CDR/sez-to-sez/SEZtoSEZ-2013-11-22.csv\n",
      "../../data/CDR/sez-to-sez/SEZtoSEZ-2013-11-23.csv\n",
      "../../data/CDR/sez-to-sez/SEZtoSEZ-2013-11-24.csv\n",
      "../../data/CDR/sez-to-sez/SEZtoSEZ-2013-11-25.csv\n",
      "../../data/CDR/sez-to-sez/SEZtoSEZ-2013-11-26.csv\n",
      "../../data/CDR/sez-to-sez/SEZtoSEZ-2013-11-27.csv\n",
      "../../data/CDR/sez-to-sez/SEZtoSEZ-2013-11-28.csv\n",
      "../../data/CDR/sez-to-sez/SEZtoSEZ-2013-11-29.csv\n",
      "../../data/CDR/sez-to-sez/SEZtoSEZ-2013-11-30.csv\n",
      "../../data/CDR/sez-to-sez/SEZtoSEZ-2013-12-01.csv\n",
      "../../data/CDR/sez-to-sez/SEZtoSEZ-2013-12-02.csv\n",
      "../../data/CDR/sez-to-sez/SEZtoSEZ-2013-12-03.csv\n",
      "../../data/CDR/sez-to-sez/SEZtoSEZ-2013-12-04.csv\n",
      "../../data/CDR/sez-to-sez/SEZtoSEZ-2013-12-05.csv\n",
      "../../data/CDR/sez-to-sez/SEZtoSEZ-2013-12-06.csv\n",
      "../../data/CDR/sez-to-sez/SEZtoSEZ-2013-12-07.csv\n",
      "../../data/CDR/sez-to-sez/SEZtoSEZ-2013-12-08.csv\n",
      "../../data/CDR/sez-to-sez/SEZtoSEZ-2013-12-09.csv\n",
      "../../data/CDR/sez-to-sez/SEZtoSEZ-2013-12-10.csv\n",
      "../../data/CDR/sez-to-sez/SEZtoSEZ-2013-12-11.csv\n",
      "../../data/CDR/sez-to-sez/SEZtoSEZ-2013-12-12.csv\n",
      "../../data/CDR/sez-to-sez/SEZtoSEZ-2013-12-13.csv\n",
      "../../data/CDR/sez-to-sez/SEZtoSEZ-2013-12-14.csv\n",
      "../../data/CDR/sez-to-sez/SEZtoSEZ-2013-12-15.csv\n",
      "../../data/CDR/sez-to-sez/SEZtoSEZ-2013-12-16.csv\n",
      "../../data/CDR/sez-to-sez/SEZtoSEZ-2013-12-17.csv\n",
      "../../data/CDR/sez-to-sez/SEZtoSEZ-2013-12-18.csv\n",
      "../../data/CDR/sez-to-sez/SEZtoSEZ-2013-12-19.csv\n",
      "../../data/CDR/sez-to-sez/SEZtoSEZ-2013-12-20.csv\n",
      "../../data/CDR/sez-to-sez/SEZtoSEZ-2013-12-21.csv\n",
      "../../data/CDR/sez-to-sez/SEZtoSEZ-2013-12-22.csv\n",
      "../../data/CDR/sez-to-sez/SEZtoSEZ-2013-12-23.csv\n",
      "../../data/CDR/sez-to-sez/SEZtoSEZ-2013-12-24.csv\n",
      "../../data/CDR/sez-to-sez/SEZtoSEZ-2013-12-25.csv\n",
      "../../data/CDR/sez-to-sez/SEZtoSEZ-2013-12-26.csv\n",
      "../../data/CDR/sez-to-sez/SEZtoSEZ-2013-12-27.csv\n",
      "../../data/CDR/sez-to-sez/SEZtoSEZ-2013-12-28.csv\n",
      "../../data/CDR/sez-to-sez/SEZtoSEZ-2013-12-29.csv\n",
      "../../data/CDR/sez-to-sez/SEZtoSEZ-2013-12-30.csv\n",
      "../../data/CDR/sez-to-sez/SEZtoSEZ-2013-12-31.csv\n"
     ]
    }
   ],
   "source": [
    "alldf = pd.DataFrame(columns=['source','dest','call'])\n",
    "\n",
    "for month in {'11','12'}:\n",
    "    for day in range(1,32):        \n",
    "        to_read = '../../data/CDR/sez-to-sez/SEZtoSEZ-2013-' + month + '-' + \\\n",
    "                    str(day).zfill(2) + '.csv'\n",
    "        \n",
    "        if os.path.isfile(to_read):\n",
    "            print (to_read)\n",
    "            \n",
    "            # loading the raw data\n",
    "            df = pd.read_csv(to_read) \n",
    "            df.columns = ['source','dest','call']\n",
    "#             df['month'] = int(month)\n",
    "#             df['day'] = day\n",
    "            \n",
    "            alldf = alldf.append(df)\n",
    "            alldf = alldf.groupby(['source','dest']).agg({\n",
    "                    'source': 'first',\n",
    "                    'dest': 'first',\n",
    "                    'call': 'sum'\n",
    "                })\n",
    "\n"
   ]
  },
  {
   "cell_type": "code",
   "execution_count": null,
   "metadata": {
    "collapsed": false
   },
   "outputs": [],
   "source": []
  },
  {
   "cell_type": "code",
   "execution_count": 71,
   "metadata": {
    "collapsed": false
   },
   "outputs": [
    {
     "data": {
      "text/html": [
       "<div>\n",
       "<table border=\"1\" class=\"dataframe\">\n",
       "  <thead>\n",
       "    <tr style=\"text-align: right;\">\n",
       "      <th></th>\n",
       "      <th></th>\n",
       "      <th>call</th>\n",
       "      <th>dest</th>\n",
       "      <th>source</th>\n",
       "    </tr>\n",
       "    <tr>\n",
       "      <th>source</th>\n",
       "      <th>dest</th>\n",
       "      <th></th>\n",
       "      <th></th>\n",
       "      <th></th>\n",
       "    </tr>\n",
       "  </thead>\n",
       "  <tbody>\n",
       "    <tr>\n",
       "      <th>1.500900e+11</th>\n",
       "      <th>1.500900e+11</th>\n",
       "      <td>0.160123</td>\n",
       "      <td>1.500900e+11</td>\n",
       "      <td>1.500900e+11</td>\n",
       "    </tr>\n",
       "  </tbody>\n",
       "</table>\n",
       "</div>"
      ],
      "text/plain": [
       "                               call          dest        source\n",
       "source       dest                                              \n",
       "1.500900e+11 1.500900e+11  0.160123  1.500900e+11  1.500900e+11"
      ]
     },
     "execution_count": 71,
     "metadata": {},
     "output_type": "execute_result"
    }
   ],
   "source": [
    "alldf.iloc[(alldf.index.get_level_values('source') == 150090000023) & (alldf.index.get_level_values('dest') == 150090000023)]"
   ]
  },
  {
   "cell_type": "code",
   "execution_count": 72,
   "metadata": {
    "collapsed": false
   },
   "outputs": [
    {
     "data": {
      "text/html": [
       "<div>\n",
       "<table border=\"1\" class=\"dataframe\">\n",
       "  <thead>\n",
       "    <tr style=\"text-align: right;\">\n",
       "      <th></th>\n",
       "      <th></th>\n",
       "      <th>call</th>\n",
       "      <th>dest</th>\n",
       "      <th>source</th>\n",
       "    </tr>\n",
       "    <tr>\n",
       "      <th>source</th>\n",
       "      <th>dest</th>\n",
       "      <th></th>\n",
       "      <th></th>\n",
       "      <th></th>\n",
       "    </tr>\n",
       "  </thead>\n",
       "  <tbody>\n",
       "    <tr>\n",
       "      <th rowspan=\"5\" valign=\"top\">1.500900e+11</th>\n",
       "      <th>1.500900e+11</th>\n",
       "      <td>1.601233e-01</td>\n",
       "      <td>1.500900e+11</td>\n",
       "      <td>1.500900e+11</td>\n",
       "    </tr>\n",
       "    <tr>\n",
       "      <th>1.500900e+11</th>\n",
       "      <td>5.552542e-02</td>\n",
       "      <td>1.500900e+11</td>\n",
       "      <td>1.500900e+11</td>\n",
       "    </tr>\n",
       "    <tr>\n",
       "      <th>1.501100e+11</th>\n",
       "      <td>2.103380e-07</td>\n",
       "      <td>1.501100e+11</td>\n",
       "      <td>1.500900e+11</td>\n",
       "    </tr>\n",
       "    <tr>\n",
       "      <th>1.501100e+11</th>\n",
       "      <td>7.180081e-04</td>\n",
       "      <td>1.501100e+11</td>\n",
       "      <td>1.500900e+11</td>\n",
       "    </tr>\n",
       "    <tr>\n",
       "      <th>1.502700e+11</th>\n",
       "      <td>1.882756e-02</td>\n",
       "      <td>1.502700e+11</td>\n",
       "      <td>1.500900e+11</td>\n",
       "    </tr>\n",
       "  </tbody>\n",
       "</table>\n",
       "</div>"
      ],
      "text/plain": [
       "                                   call          dest        source\n",
       "source       dest                                                  \n",
       "1.500900e+11 1.500900e+11  1.601233e-01  1.500900e+11  1.500900e+11\n",
       "             1.500900e+11  5.552542e-02  1.500900e+11  1.500900e+11\n",
       "             1.501100e+11  2.103380e-07  1.501100e+11  1.500900e+11\n",
       "             1.501100e+11  7.180081e-04  1.501100e+11  1.500900e+11\n",
       "             1.502700e+11  1.882756e-02  1.502700e+11  1.500900e+11"
      ]
     },
     "execution_count": 72,
     "metadata": {},
     "output_type": "execute_result"
    }
   ],
   "source": [
    "alldf.head()"
   ]
  },
  {
   "cell_type": "code",
   "execution_count": 73,
   "metadata": {
    "collapsed": false
   },
   "outputs": [],
   "source": [
    "output_filename = '../../data/CDR/sez-to-sez/sez_network.csv'\n",
    "alldf.to_csv(output_filename, encoding='utf-8', index=False)"
   ]
  },
  {
   "cell_type": "code",
   "execution_count": 74,
   "metadata": {
    "collapsed": false
   },
   "outputs": [
    {
     "data": {
      "text/plain": [
       "39047736"
      ]
     },
     "execution_count": 74,
     "metadata": {},
     "output_type": "execute_result"
    }
   ],
   "source": [
    "len(alldf)"
   ]
  },
  {
   "cell_type": "code",
   "execution_count": 75,
   "metadata": {
    "collapsed": false
   },
   "outputs": [
    {
     "data": {
      "text/plain": [
       "29239054"
      ]
     },
     "execution_count": 75,
     "metadata": {},
     "output_type": "execute_result"
    }
   ],
   "source": [
    "len(df)"
   ]
  },
  {
   "cell_type": "code",
   "execution_count": null,
   "metadata": {
    "collapsed": true
   },
   "outputs": [],
   "source": []
  }
 ],
 "metadata": {
  "anaconda-cloud": {},
  "kernelspec": {
   "display_name": "Python [Root]",
   "language": "python",
   "name": "Python [Root]"
  },
  "language_info": {
   "codemirror_mode": {
    "name": "ipython",
    "version": 3
   },
   "file_extension": ".py",
   "mimetype": "text/x-python",
   "name": "python",
   "nbconvert_exporter": "python",
   "pygments_lexer": "ipython3",
   "version": "3.5.2"
  }
 },
 "nbformat": 4,
 "nbformat_minor": 0
}
